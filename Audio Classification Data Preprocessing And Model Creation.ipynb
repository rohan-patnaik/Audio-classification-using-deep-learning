{
 "cells": [
  {
   "cell_type": "code",
   "execution_count": 1,
   "metadata": {},
   "outputs": [],
   "source": [
    "import numpy as np\n",
    "import pandas as pd\n",
    "import matplotlib.pyplot as plt\n",
    "import librosa\n",
    "import librosa.display\n",
    "import IPython.display as ipd"
   ]
  },
  {
   "cell_type": "code",
   "execution_count": 2,
   "metadata": {},
   "outputs": [],
   "source": [
    "filename = 'UrbanSound8K/UrbanSound8K/audio/fold1/7383-3-0-0.wav'"
   ]
  },
  {
   "cell_type": "code",
   "execution_count": 3,
   "metadata": {},
   "outputs": [],
   "source": [
    "plt.figure(figsize=(12, 4))\n",
    "data, sample_rate = librosa.load(filename)\n",
    "print(\"Sample rate :\", sample_rate)\n",
    "librosa.display.waveshow(data, sr=sample_rate)\n",
    "ipd.Audio(data, rate=sample_rate)"
   ]
  },
  {
   "cell_type": "code",
   "execution_count": null,
   "metadata": {},
   "outputs": [],
   "source": [
    "# Do the same audio EDA as above but with sci-py.(1 major disadvantage here is the data collected from audio is not regularized)\n",
    "from scipy.io import wavfile as wav\n",
    "wav_sample_rate, wav_data = wav.read(filename)"
   ]
  },
  {
   "cell_type": "code",
   "execution_count": null,
   "metadata": {},
   "outputs": [],
   "source": [
    "from scipy.io.wavfile import read\n",
    "audio = read(filename)"
   ]
  },
  {
   "cell_type": "code",
   "execution_count": null,
   "metadata": {},
   "outputs": [
    {
     "data": {
      "text/plain": [
       "array([[   0,    0],\n",
       "       [   0,    0],\n",
       "       [   0,    0],\n",
       "       ...,\n",
       "       [-399, -115],\n",
       "       [-388, -111],\n",
       "       [-386, -105]], dtype=int16)"
      ]
     },
     "execution_count": 24,
     "metadata": {},
     "output_type": "execute_result"
    }
   ],
   "source": [
    "audio[1]"
   ]
  },
  {
   "cell_type": "code",
   "execution_count": null,
   "metadata": {},
   "outputs": [
    {
     "data": {
      "text/plain": [
       "[<matplotlib.lines.Line2D at 0x14ca29b2a00>,\n",
       " <matplotlib.lines.Line2D at 0x14ca3291400>]"
      ]
     },
     "execution_count": 25,
     "metadata": {},
     "output_type": "execute_result"
    },
    {
     "data": {
      "image/png": "[encoded data removed]",
      "text/plain": [
       "<Figure size 540x252 with 1 Axes>"
      ]
     },
     "metadata": {
      "needs_background": "light"
     },
     "output_type": "display_data"
    }
   ],
   "source": [
    "plt.rcParams[\"figure.figsize\"] = [7.50, 3.50]\n",
    "plt.rcParams[\"figure.autolayout\"] = True\n",
    "plt.plot(audio[1])"
   ]
  },
  {
   "cell_type": "code",
   "execution_count": null,
   "metadata": {},
   "outputs": [
    {
     "data": {
      "text/html": [
       "<div>\n",
       "<style scoped>\n",
       "    .dataframe tbody tr th:only-of-type {\n",
       "        vertical-align: middle;\n",
       "    }\n",
       "\n",
       "    .dataframe tbody tr th {\n",
       "        vertical-align: top;\n",
       "    }\n",
       "\n",
       "    .dataframe thead th {\n",
       "        text-align: right;\n",
       "    }\n",
       "</style>\n",
       "<table border=\"1\" class=\"dataframe\">\n",
       "  <thead>\n",
       "    <tr style=\"text-align: right;\">\n",
       "      <th></th>\n",
       "      <th>slice_file_name</th>\n",
       "      <th>fsID</th>\n",
       "      <th>start</th>\n",
       "      <th>end</th>\n",
       "      <th>salience</th>\n",
       "      <th>fold</th>\n",
       "      <th>classID</th>\n",
       "      <th>class</th>\n",
       "    </tr>\n",
       "  </thead>\n",
       "  <tbody>\n",
       "    <tr>\n",
       "      <th>0</th>\n",
       "      <td>100032-3-0-0.wav</td>\n",
       "      <td>100032</td>\n",
       "      <td>0.000000</td>\n",
       "      <td>0.317551</td>\n",
       "      <td>1</td>\n",
       "      <td>5</td>\n",
       "      <td>3</td>\n",
       "      <td>dog_bark</td>\n",
       "    </tr>\n",
       "    <tr>\n",
       "      <th>1</th>\n",
       "      <td>100263-2-0-117.wav</td>\n",
       "      <td>100263</td>\n",
       "      <td>58.500000</td>\n",
       "      <td>62.500000</td>\n",
       "      <td>1</td>\n",
       "      <td>5</td>\n",
       "      <td>2</td>\n",
       "      <td>children_playing</td>\n",
       "    </tr>\n",
       "    <tr>\n",
       "      <th>2</th>\n",
       "      <td>100263-2-0-121.wav</td>\n",
       "      <td>100263</td>\n",
       "      <td>60.500000</td>\n",
       "      <td>64.500000</td>\n",
       "      <td>1</td>\n",
       "      <td>5</td>\n",
       "      <td>2</td>\n",
       "      <td>children_playing</td>\n",
       "    </tr>\n",
       "    <tr>\n",
       "      <th>3</th>\n",
       "      <td>100263-2-0-126.wav</td>\n",
       "      <td>100263</td>\n",
       "      <td>63.000000</td>\n",
       "      <td>67.000000</td>\n",
       "      <td>1</td>\n",
       "      <td>5</td>\n",
       "      <td>2</td>\n",
       "      <td>children_playing</td>\n",
       "    </tr>\n",
       "    <tr>\n",
       "      <th>4</th>\n",
       "      <td>100263-2-0-137.wav</td>\n",
       "      <td>100263</td>\n",
       "      <td>68.500000</td>\n",
       "      <td>72.500000</td>\n",
       "      <td>1</td>\n",
       "      <td>5</td>\n",
       "      <td>2</td>\n",
       "      <td>children_playing</td>\n",
       "    </tr>\n",
       "    <tr>\n",
       "      <th>5</th>\n",
       "      <td>100263-2-0-143.wav</td>\n",
       "      <td>100263</td>\n",
       "      <td>71.500000</td>\n",
       "      <td>75.500000</td>\n",
       "      <td>1</td>\n",
       "      <td>5</td>\n",
       "      <td>2</td>\n",
       "      <td>children_playing</td>\n",
       "    </tr>\n",
       "    <tr>\n",
       "      <th>6</th>\n",
       "      <td>100263-2-0-161.wav</td>\n",
       "      <td>100263</td>\n",
       "      <td>80.500000</td>\n",
       "      <td>84.500000</td>\n",
       "      <td>1</td>\n",
       "      <td>5</td>\n",
       "      <td>2</td>\n",
       "      <td>children_playing</td>\n",
       "    </tr>\n",
       "    <tr>\n",
       "      <th>7</th>\n",
       "      <td>100263-2-0-3.wav</td>\n",
       "      <td>100263</td>\n",
       "      <td>1.500000</td>\n",
       "      <td>5.500000</td>\n",
       "      <td>1</td>\n",
       "      <td>5</td>\n",
       "      <td>2</td>\n",
       "      <td>children_playing</td>\n",
       "    </tr>\n",
       "    <tr>\n",
       "      <th>8</th>\n",
       "      <td>100263-2-0-36.wav</td>\n",
       "      <td>100263</td>\n",
       "      <td>18.000000</td>\n",
       "      <td>22.000000</td>\n",
       "      <td>1</td>\n",
       "      <td>5</td>\n",
       "      <td>2</td>\n",
       "      <td>children_playing</td>\n",
       "    </tr>\n",
       "    <tr>\n",
       "      <th>9</th>\n",
       "      <td>100648-1-0-0.wav</td>\n",
       "      <td>100648</td>\n",
       "      <td>4.823402</td>\n",
       "      <td>5.471927</td>\n",
       "      <td>2</td>\n",
       "      <td>10</td>\n",
       "      <td>1</td>\n",
       "      <td>car_horn</td>\n",
       "    </tr>\n",
       "  </tbody>\n",
       "</table>\n",
       "</div>"
      ],
      "text/plain": [
       "      slice_file_name    fsID      start        end  salience  fold  classID  \\\n",
       "0    100032-3-0-0.wav  100032   0.000000   0.317551         1     5        3   \n",
       "1  100263-2-0-117.wav  100263  58.500000  62.500000         1     5        2   \n",
       "2  100263-2-0-121.wav  100263  60.500000  64.500000         1     5        2   \n",
       "3  100263-2-0-126.wav  100263  63.000000  67.000000         1     5        2   \n",
       "4  100263-2-0-137.wav  100263  68.500000  72.500000         1     5        2   \n",
       "5  100263-2-0-143.wav  100263  71.500000  75.500000         1     5        2   \n",
       "6  100263-2-0-161.wav  100263  80.500000  84.500000         1     5        2   \n",
       "7    100263-2-0-3.wav  100263   1.500000   5.500000         1     5        2   \n",
       "8   100263-2-0-36.wav  100263  18.000000  22.000000         1     5        2   \n",
       "9    100648-1-0-0.wav  100648   4.823402   5.471927         2    10        1   \n",
       "\n",
       "              class  \n",
       "0          dog_bark  \n",
       "1  children_playing  \n",
       "2  children_playing  \n",
       "3  children_playing  \n",
       "4  children_playing  \n",
       "5  children_playing  \n",
       "6  children_playing  \n",
       "7  children_playing  \n",
       "8  children_playing  \n",
       "9          car_horn  "
      ]
     },
     "execution_count": 26,
     "metadata": {},
     "output_type": "execute_result"
    }
   ],
   "source": [
    "import pandas as pd\n",
    "\n",
    "metadata=pd.read_csv('UrbanSound8K/UrbanSound8K/metadata/UrbanSound8K.csv')\n",
    "metadata.head(10)"
   ]
  },
  {
   "cell_type": "code",
   "execution_count": null,
   "metadata": {},
   "outputs": [
    {
     "data": {
      "text/plain": [
       "dog_bark            1000\n",
       "children_playing    1000\n",
       "air_conditioner     1000\n",
       "street_music        1000\n",
       "engine_idling       1000\n",
       "jackhammer          1000\n",
       "drilling            1000\n",
       "siren                929\n",
       "car_horn             429\n",
       "gun_shot             374\n",
       "Name: class, dtype: int64"
      ]
     },
     "execution_count": 27,
     "metadata": {},
     "output_type": "execute_result"
    }
   ],
   "source": [
    "### Check whether the dataset is imbalanced\n",
    "metadata['class'].value_counts()"
   ]
  },
  {
   "cell_type": "code",
   "execution_count": null,
   "metadata": {},
   "outputs": [
    {
     "data": {
      "text/plain": [
       "(8732, 8)"
      ]
     },
     "execution_count": 28,
     "metadata": {},
     "output_type": "execute_result"
    }
   ],
   "source": [
    "metadata.shape"
   ]
  },
  {
   "attachments": {},
   "cell_type": "markdown",
   "metadata": {},
   "source": [
    "**Now comes the preprocessing part**"
   ]
  },
  {
   "attachments": {},
   "cell_type": "markdown",
   "metadata": {},
   "source": [
    "Extract features using Mel-Frequency Cepstral Coefficients(MFCC)"
   ]
  },
  {
   "cell_type": "code",
   "execution_count": null,
   "metadata": {},
   "outputs": [],
   "source": [
    "mfcc = librosa.feature.mfcc(y=data, sr=sample_rate, n_mfcc=40)"
   ]
  },
  {
   "cell_type": "code",
   "execution_count": null,
   "metadata": {},
   "outputs": [
    {
     "data": {
      "text/plain": [
       "array([[-5.7041687e+02, -5.0580988e+02, -4.4661014e+02, ...,\n",
       "        -4.8128598e+02, -4.7245877e+02, -4.6424646e+02],\n",
       "       [ 3.2360138e+01,  9.3758621e+01,  1.4270895e+02, ...,\n",
       "         1.0403226e+02,  1.1474959e+02,  1.1683490e+02],\n",
       "       [ 2.6088993e+01,  3.4996731e+01,  4.0650402e+01, ...,\n",
       "         1.1899885e+01,  1.7138016e+01,  1.3884659e+01],\n",
       "       ...,\n",
       "       [ 5.9291804e-01,  2.7261610e+00, -2.6107316e+00, ...,\n",
       "        -2.7341051e+00, -3.7578499e+00, -5.8995886e+00],\n",
       "       [-1.3069375e+00, -2.1206574e+00, -9.1924280e-01, ...,\n",
       "        -1.2278645e+00, -3.3723919e+00, -4.1921663e+00],\n",
       "       [-2.0638509e+00, -2.9027894e+00,  2.7276498e-01, ...,\n",
       "        -1.3872089e+00, -3.3255339e+00, -8.4046578e-01]], dtype=float32)"
      ]
     },
     "execution_count": 30,
     "metadata": {},
     "output_type": "execute_result"
    }
   ],
   "source": [
    "mfcc"
   ]
  },
  {
   "attachments": {},
   "cell_type": "markdown",
   "metadata": {},
   "source": [
    "Now create a feature extractor function"
   ]
  },
  {
   "cell_type": "code",
   "execution_count": null,
   "metadata": {},
   "outputs": [],
   "source": [
    "def feature_extractor(file):\n",
    "    librosa.load(file, res_type='kaiser_fast')\n",
    "    mfcc_features = librosa.feature.mfcc(y=data, sr=sample_rate, n_mfcc=40)\n",
    "    mfcc_scaled_features =np.mean(mfcc_features.T,axis=0)\n",
    "\n",
    "    return mfcc_scaled_features"
   ]
  },
  {
   "cell_type": "code",
   "execution_count": null,
   "metadata": {},
   "outputs": [
    {
     "data": {
      "text/plain": [
       "array([-3.9728604e+02,  1.4199390e+02,  1.0424644e+01, -9.8004112e+00,\n",
       "       -8.0245886e+00,  7.5154042e+00, -1.0164132e+01, -7.2393765e+00,\n",
       "       -3.5004098e+00, -5.7000537e+00, -2.3489676e+00, -3.5407817e+00,\n",
       "        5.2213383e+00,  9.1667747e+00,  9.7039452e+00,  1.2727837e+01,\n",
       "        2.4204013e+00, -1.0693447e-01,  1.9542018e+00,  2.3954169e-01,\n",
       "        1.1634955e-01, -2.0959182e+00, -4.3151698e+00, -7.4520910e-01,\n",
       "        4.2331934e-01,  1.5813076e+00,  1.4602641e+00,  2.6433935e+00,\n",
       "        4.3686604e+00,  1.9432870e+00,  2.9634244e-03,  4.8470337e-02,\n",
       "        1.9078921e+00,  1.1821151e+00,  1.4464529e-01, -8.8062823e-01,\n",
       "       -2.5595131e+00, -1.7090167e+00, -1.3550457e+00,  3.8210499e-01],\n",
       "      dtype=float32)"
      ]
     },
     "execution_count": 32,
     "metadata": {},
     "output_type": "execute_result"
    }
   ],
   "source": [
    "feature_extractor(filename)"
   ]
  },
  {
   "cell_type": "code",
   "execution_count": null,
   "metadata": {},
   "outputs": [
    {
     "name": "stderr",
     "output_type": "stream",
     "text": [
      "0it [00:00, ?it/s]c:\\Users\\rohan\\anaconda3\\envs\\tensorflow_env\\lib\\site-packages\\librosa\\util\\decorators.py:88: UserWarning: n_fft=2048 is too small for input signal of length=40\n",
      "  return f(*args, **kwargs)\n",
      "147it [00:12, 11.93it/s]"
     ]
    }
   ],
   "source": [
    "import os\n",
    "import numpy as np\n",
    "from tqdm import tqdm\n",
    "### Now we iterate through every audio file and extract features \n",
    "### using Mel-Frequency Cepstral Coefficients\n",
    "audio_dataset_path = 'UrbanSound8K/UrbanSound8K/audio/'\n",
    "extracted_features=[]\n",
    "for index_num,row in tqdm(metadata.iterrows()):\n",
    "    file_name = os.path.join(os.path.abspath(audio_dataset_path),'fold'+str(row[\"fold\"])+'/',str(row[\"slice_file_name\"]))\n",
    "    final_class_labels=row[\"class\"]\n",
    "    data=feature_extractor(file_name)\n",
    "    extracted_features.append([data,final_class_labels])"
   ]
  },
  {
   "attachments": {},
   "cell_type": "markdown",
   "metadata": {},
   "source": [
    "Create a dataframe with the extracted features from above"
   ]
  },
  {
   "cell_type": "code",
   "execution_count": null,
   "metadata": {},
   "outputs": [
    {
     "data": {
      "text/html": [
       "<div>\n",
       "<style scoped>\n",
       "    .dataframe tbody tr th:only-of-type {\n",
       "        vertical-align: middle;\n",
       "    }\n",
       "\n",
       "    .dataframe tbody tr th {\n",
       "        vertical-align: top;\n",
       "    }\n",
       "\n",
       "    .dataframe thead th {\n",
       "        text-align: right;\n",
       "    }\n",
       "</style>\n",
       "<table border=\"1\" class=\"dataframe\">\n",
       "  <thead>\n",
       "    <tr style=\"text-align: right;\">\n",
       "      <th></th>\n",
       "      <th>feature</th>\n",
       "      <th>class</th>\n",
       "    </tr>\n",
       "  </thead>\n",
       "  <tbody>\n",
       "    <tr>\n",
       "      <th>0</th>\n",
       "      <td>[-397.28604, 141.9939, 10.424644, -9.800411, -...</td>\n",
       "      <td>dog_bark</td>\n",
       "    </tr>\n",
       "    <tr>\n",
       "      <th>1</th>\n",
       "      <td>[450.72662, -21.561567, 12.0586605, -0.4794998...</td>\n",
       "      <td>children_playing</td>\n",
       "    </tr>\n",
       "    <tr>\n",
       "      <th>2</th>\n",
       "      <td>[481.85965, -1.5298109, 0.6514032, -1.6475505,...</td>\n",
       "      <td>children_playing</td>\n",
       "    </tr>\n",
       "    <tr>\n",
       "      <th>3</th>\n",
       "      <td>[490.1246, -0.18750022, 0.019547466, -0.025050...</td>\n",
       "      <td>children_playing</td>\n",
       "    </tr>\n",
       "    <tr>\n",
       "      <th>4</th>\n",
       "      <td>[491.94803, -0.03681645, -0.012096148, -0.0235...</td>\n",
       "      <td>children_playing</td>\n",
       "    </tr>\n",
       "  </tbody>\n",
       "</table>\n",
       "</div>"
      ],
      "text/plain": [
       "                                             feature             class\n",
       "0  [-397.28604, 141.9939, 10.424644, -9.800411, -...          dog_bark\n",
       "1  [450.72662, -21.561567, 12.0586605, -0.4794998...  children_playing\n",
       "2  [481.85965, -1.5298109, 0.6514032, -1.6475505,...  children_playing\n",
       "3  [490.1246, -0.18750022, 0.019547466, -0.025050...  children_playing\n",
       "4  [491.94803, -0.03681645, -0.012096148, -0.0235...  children_playing"
      ]
     },
     "execution_count": 16,
     "metadata": {},
     "output_type": "execute_result"
    }
   ],
   "source": [
    "extracted_features_df = pd.DataFrame(extracted_features,columns=['feature','class'])\n",
    "extracted_features_df.head()"
   ]
  },
  {
   "cell_type": "code",
   "execution_count": null,
   "metadata": {},
   "outputs": [],
   "source": [
    "### Split the dataset into independent and dependent dataset\n",
    "X=np.array(extracted_features_df['feature'].tolist())\n",
    "y=np.array(extracted_features_df['class'].tolist())"
   ]
  },
  {
   "cell_type": "code",
   "execution_count": null,
   "metadata": {},
   "outputs": [
    {
     "data": {
      "text/plain": [
       "((8732, 40), (8732,))"
      ]
     },
     "execution_count": 143,
     "metadata": {},
     "output_type": "execute_result"
    }
   ],
   "source": [
    "X.shape, y.shape"
   ]
  },
  {
   "attachments": {},
   "cell_type": "markdown",
   "metadata": {},
   "source": [
    "Time to change categorical variables of y into numerical variables using get_dummies"
   ]
  },
  {
   "cell_type": "code",
   "execution_count": null,
   "metadata": {},
   "outputs": [],
   "source": [
    "y=np.array(pd.get_dummies(y))"
   ]
  },
  {
   "cell_type": "markdown",
   "metadata": {},
   "source": [
    "Now to perform train test split on our audio data"
   ]
  },
  {
   "cell_type": "code",
   "execution_count": null,
   "metadata": {},
   "outputs": [],
   "source": [
    "### Train Test Split\n",
    "from sklearn.model_selection import train_test_split\n",
    "X_train,X_test,y_train,y_test=train_test_split(X,y,test_size=0.2,random_state=0)"
   ]
  },
  {
   "cell_type": "code",
   "execution_count": null,
   "metadata": {},
   "outputs": [
    {
     "data": {
      "text/plain": [
       "((6985, 40), (1747, 40), (6985, 10), (1747, 10))"
      ]
     },
     "execution_count": 146,
     "metadata": {},
     "output_type": "execute_result"
    }
   ],
   "source": [
    "X_train.shape, X_test.shape, y_train.shape, y_test.shape"
   ]
  },
  {
   "cell_type": "code",
   "execution_count": null,
   "metadata": {},
   "outputs": [
    {
     "data": {
      "text/plain": [
       "(1, 69850)"
      ]
     },
     "execution_count": 147,
     "metadata": {},
     "output_type": "execute_result"
    }
   ],
   "source": [
    "y_train.reshape(1,-1).shape"
   ]
  },
  {
   "cell_type": "code",
   "execution_count": null,
   "metadata": {},
   "outputs": [
    {
     "data": {
      "text/plain": [
       "(8732, 10)"
      ]
     },
     "execution_count": 148,
     "metadata": {},
     "output_type": "execute_result"
    }
   ],
   "source": [
    "y.shape"
   ]
  },
  {
   "attachments": {},
   "cell_type": "markdown",
   "metadata": {},
   "source": [
    "Model building"
   ]
  },
  {
   "cell_type": "code",
   "execution_count": null,
   "metadata": {},
   "outputs": [
    {
     "name": "stdout",
     "output_type": "stream",
     "text": [
      "2.5.0\n"
     ]
    }
   ],
   "source": [
    "# Now since all the preprocessing is done its time to create out model for the audio processing data\n",
    "import tensorflow as tf\n",
    "print(tf.__version__)"
   ]
  },
  {
   "cell_type": "code",
   "execution_count": null,
   "metadata": {},
   "outputs": [],
   "source": [
    "from tensorflow.keras.models import Sequential\n",
    "from tensorflow.keras.layers import Dense, Dropout, Activation, Flatten\n",
    "from tensorflow.keras.optimizers import Adam\n",
    "from sklearn import metrics"
   ]
  },
  {
   "cell_type": "code",
   "execution_count": null,
   "metadata": {},
   "outputs": [],
   "source": [
    "# Lets take a look at the number of classes we have\n",
    "num_classes = y.shape[1]"
   ]
  },
  {
   "cell_type": "code",
   "execution_count": null,
   "metadata": {},
   "outputs": [
    {
     "data": {
      "text/plain": [
       "40"
      ]
     },
     "execution_count": 152,
     "metadata": {},
     "output_type": "execute_result"
    }
   ],
   "source": [
    "X_train.shape[1]"
   ]
  },
  {
   "attachments": {},
   "cell_type": "markdown",
   "metadata": {},
   "source": [
    "Model 1"
   ]
  },
  {
   "cell_type": "code",
   "execution_count": null,
   "metadata": {},
   "outputs": [],
   "source": [
    "model = Sequential()\n",
    "model.add(Dense(100, activation='relu', input_shape=(X_train.shape[1],)))\n",
    "model.add(Dropout(0.5))\n",
    "model.add(Dense(200, activation='relu'))\n",
    "model.add(Dropout(0.5))\n",
    "model.add(Dense(100, activation='relu'))\n",
    "model.add(Dropout(0.5))\n",
    "\n",
    "model.add(Dense(num_classes, activation='softmax'))\n"
   ]
  },
  {
   "cell_type": "code",
   "execution_count": null,
   "metadata": {},
   "outputs": [
    {
     "name": "stdout",
     "output_type": "stream",
     "text": [
      "Model: \"sequential_3\"\n",
      "_________________________________________________________________\n",
      "Layer (type)                 Output Shape              Param #   \n",
      "=================================================================\n",
      "dense_10 (Dense)             (None, 100)               4100      \n",
      "_________________________________________________________________\n",
      "dropout_8 (Dropout)          (None, 100)               0         \n",
      "_________________________________________________________________\n",
      "dense_11 (Dense)             (None, 200)               20200     \n",
      "_________________________________________________________________\n",
      "dropout_9 (Dropout)          (None, 200)               0         \n",
      "_________________________________________________________________\n",
      "dense_12 (Dense)             (None, 100)               20100     \n",
      "_________________________________________________________________\n",
      "dropout_10 (Dropout)         (None, 100)               0         \n",
      "_________________________________________________________________\n",
      "dense_13 (Dense)             (None, 10)                1010      \n",
      "=================================================================\n",
      "Total params: 45,410\n",
      "Trainable params: 45,410\n",
      "Non-trainable params: 0\n",
      "_________________________________________________________________\n"
     ]
    }
   ],
   "source": [
    "model.summary()"
   ]
  },
  {
   "cell_type": "code",
   "execution_count": null,
   "metadata": {},
   "outputs": [],
   "source": [
    "model.compile(optimizer='adam', loss='categorical_crossentropy', metrics=['accuracy'])"
   ]
  },
  {
   "attachments": {},
   "cell_type": "markdown",
   "metadata": {},
   "source": [
    "Model 2"
   ]
  },
  {
   "cell_type": "code",
   "execution_count": null,
   "metadata": {},
   "outputs": [
    {
     "ename": "NameError",
     "evalue": "name 'X_train' is not defined",
     "output_type": "error",
     "traceback": [
      "\u001b[1;31m---------------------------------------------------------------------------\u001b[0m",
      "\u001b[1;31mNameError\u001b[0m                                 Traceback (most recent call last)",
      "\u001b[1;32md:\\Work\\Jupyter projects\\Audio-classification-using-deep-learning\\Audio Classification Data Preprocessing And Model Creation.ipynb Cell 41\u001b[0m in \u001b[0;36m<cell line: 2>\u001b[1;34m()\u001b[0m\n\u001b[0;32m      <a href='vscode-notebook-cell:/d%3A/Work/Jupyter%20projects/Audio-classification-using-deep-learning/Audio%20Classification%20Data%20Preprocessing%20And%20Model%20Creation.ipynb#X62sZmlsZQ%3D%3D?line=0'>1</a>\u001b[0m model2 \u001b[39m=\u001b[39m Sequential()\n\u001b[1;32m----> <a href='vscode-notebook-cell:/d%3A/Work/Jupyter%20projects/Audio-classification-using-deep-learning/Audio%20Classification%20Data%20Preprocessing%20And%20Model%20Creation.ipynb#X62sZmlsZQ%3D%3D?line=1'>2</a>\u001b[0m model2\u001b[39m.\u001b[39madd(Dense(\u001b[39m100\u001b[39m, activation\u001b[39m=\u001b[39m\u001b[39m'\u001b[39m\u001b[39mrelu\u001b[39m\u001b[39m'\u001b[39m, input_shape\u001b[39m=\u001b[39m(X_train\u001b[39m.\u001b[39mshape[\u001b[39m1\u001b[39m],)))\n\u001b[0;32m      <a href='vscode-notebook-cell:/d%3A/Work/Jupyter%20projects/Audio-classification-using-deep-learning/Audio%20Classification%20Data%20Preprocessing%20And%20Model%20Creation.ipynb#X62sZmlsZQ%3D%3D?line=2'>3</a>\u001b[0m model2\u001b[39m.\u001b[39madd(Dropout(\u001b[39m0.5\u001b[39m))\n\u001b[0;32m      <a href='vscode-notebook-cell:/d%3A/Work/Jupyter%20projects/Audio-classification-using-deep-learning/Audio%20Classification%20Data%20Preprocessing%20And%20Model%20Creation.ipynb#X62sZmlsZQ%3D%3D?line=3'>4</a>\u001b[0m model2\u001b[39m.\u001b[39madd(Dense(\u001b[39m200\u001b[39m, activation\u001b[39m=\u001b[39m\u001b[39m'\u001b[39m\u001b[39mrelu\u001b[39m\u001b[39m'\u001b[39m))\n",
      "\u001b[1;31mNameError\u001b[0m: name 'X_train' is not defined"
     ]
    }
   ],
   "source": [
    "model2 = Sequential()\n",
    "model2.add(Dense(100, activation='relu', input_shape=(X_train.shape[1],)))\n",
    "model2.add(Dropout(0.5))\n",
    "model2.add(Dense(200, activation='relu'))\n",
    "model2.add(Dropout(0.5))\n",
    "model2.add(Dense(100, activation='relu'))\n",
    "mode2.add(Dropout(0.5))\n",
    "\n",
    "model2.add(Dense(num_classes, activation='softmax'))\n",
    "model2.summary()\n",
    "\n",
    "model2.compile(optimizer='adam', loss='categorical_crossentropy', metrics=['accuracy'])\n"
   ]
  },
  {
   "attachments": {},
   "cell_type": "markdown",
   "metadata": {},
   "source": [
    "Time for model1 training"
   ]
  },
  {
   "cell_type": "code",
   "execution_count": null,
   "metadata": {},
   "outputs": [
    {
     "name": "stdout",
     "output_type": "stream",
     "text": [
      "Epoch 1/100\n",
      "219/219 [==============================] - 0s 1ms/step - loss: 2.2559 - accuracy: 0.1144 - val_loss: 2.2698 - val_accuracy: 0.1048\n",
      "\n",
      "Epoch 00001: val_loss improved from inf to 2.26980, saving model to saved_models\\audio_classification.hdf5\n",
      "Epoch 2/100\n",
      "219/219 [==============================] - 0s 1ms/step - loss: 2.2566 - accuracy: 0.1141 - val_loss: 2.2698 - val_accuracy: 0.1048\n",
      "\n",
      "Epoch 00002: val_loss improved from 2.26980 to 2.26976, saving model to saved_models\\audio_classification.hdf5\n",
      "Epoch 3/100\n",
      "219/219 [==============================] - 0s 1ms/step - loss: 2.2561 - accuracy: 0.1101 - val_loss: 2.2699 - val_accuracy: 0.1048\n",
      "\n",
      "Epoch 00003: val_loss did not improve from 2.26976\n",
      "Epoch 4/100\n",
      "219/219 [==============================] - 0s 1ms/step - loss: 2.2559 - accuracy: 0.1160 - val_loss: 2.2699 - val_accuracy: 0.1048\n",
      "\n",
      "Epoch 00004: val_loss did not improve from 2.26976\n",
      "Epoch 5/100\n",
      "219/219 [==============================] - 0s 1ms/step - loss: 2.2562 - accuracy: 0.1140 - val_loss: 2.2698 - val_accuracy: 0.1048\n",
      "\n",
      "Epoch 00005: val_loss did not improve from 2.26976\n",
      "Epoch 6/100\n",
      "219/219 [==============================] - 0s 1ms/step - loss: 2.2561 - accuracy: 0.1132 - val_loss: 2.2699 - val_accuracy: 0.1048\n",
      "\n",
      "Epoch 00006: val_loss did not improve from 2.26976\n",
      "Epoch 7/100\n",
      "219/219 [==============================] - 0s 2ms/step - loss: 2.2560 - accuracy: 0.1104 - val_loss: 2.2699 - val_accuracy: 0.1048\n",
      "\n",
      "Epoch 00007: val_loss did not improve from 2.26976\n",
      "Epoch 8/100\n",
      "219/219 [==============================] - 0s 1ms/step - loss: 2.2558 - accuracy: 0.1089 - val_loss: 2.2699 - val_accuracy: 0.1042\n",
      "\n",
      "Epoch 00008: val_loss did not improve from 2.26976\n",
      "Epoch 9/100\n",
      "219/219 [==============================] - 0s 2ms/step - loss: 2.2558 - accuracy: 0.1135 - val_loss: 2.2698 - val_accuracy: 0.1042\n",
      "\n",
      "Epoch 00009: val_loss did not improve from 2.26976\n",
      "Epoch 10/100\n",
      "219/219 [==============================] - 0s 1ms/step - loss: 2.2558 - accuracy: 0.1155 - val_loss: 2.2698 - val_accuracy: 0.1048\n",
      "\n",
      "Epoch 00010: val_loss did not improve from 2.26976\n",
      "Epoch 11/100\n",
      "219/219 [==============================] - 0s 1ms/step - loss: 2.2559 - accuracy: 0.1160 - val_loss: 2.2698 - val_accuracy: 0.1048\n",
      "\n",
      "Epoch 00011: val_loss did not improve from 2.26976\n",
      "Epoch 12/100\n",
      "219/219 [==============================] - 0s 1ms/step - loss: 2.2565 - accuracy: 0.1137 - val_loss: 2.2699 - val_accuracy: 0.1048\n",
      "\n",
      "Epoch 00012: val_loss did not improve from 2.26976\n",
      "Epoch 13/100\n",
      "219/219 [==============================] - 0s 1ms/step - loss: 2.2558 - accuracy: 0.1108 - val_loss: 2.2699 - val_accuracy: 0.1042\n",
      "\n",
      "Epoch 00013: val_loss did not improve from 2.26976\n",
      "Epoch 14/100\n",
      "219/219 [==============================] - 0s 2ms/step - loss: 2.2558 - accuracy: 0.1132 - val_loss: 2.2699 - val_accuracy: 0.1042\n",
      "\n",
      "Epoch 00014: val_loss did not improve from 2.26976\n",
      "Epoch 15/100\n",
      "219/219 [==============================] - 0s 1ms/step - loss: 2.2558 - accuracy: 0.1071 - val_loss: 2.2697 - val_accuracy: 0.1048\n",
      "\n",
      "Epoch 00015: val_loss improved from 2.26976 to 2.26970, saving model to saved_models\\audio_classification.hdf5\n",
      "Epoch 16/100\n",
      "219/219 [==============================] - 0s 1ms/step - loss: 2.2558 - accuracy: 0.1142 - val_loss: 2.2700 - val_accuracy: 0.1042\n",
      "\n",
      "Epoch 00016: val_loss did not improve from 2.26970\n",
      "Epoch 17/100\n",
      "219/219 [==============================] - 0s 1ms/step - loss: 2.2558 - accuracy: 0.1147 - val_loss: 2.2699 - val_accuracy: 0.1048\n",
      "\n",
      "Epoch 00017: val_loss did not improve from 2.26970\n",
      "Epoch 18/100\n",
      "219/219 [==============================] - 0s 2ms/step - loss: 2.2561 - accuracy: 0.1158 - val_loss: 2.2698 - val_accuracy: 0.1048\n",
      "\n",
      "Epoch 00018: val_loss did not improve from 2.26970\n",
      "Epoch 19/100\n",
      "219/219 [==============================] - 0s 1ms/step - loss: 2.2565 - accuracy: 0.1114 - val_loss: 2.2699 - val_accuracy: 0.1048\n",
      "\n",
      "Epoch 00019: val_loss did not improve from 2.26970\n",
      "Epoch 20/100\n",
      "219/219 [==============================] - 0s 1ms/step - loss: 2.2558 - accuracy: 0.1131 - val_loss: 2.2698 - val_accuracy: 0.1048\n",
      "\n",
      "Epoch 00020: val_loss did not improve from 2.26970\n",
      "Epoch 21/100\n",
      "219/219 [==============================] - 0s 1ms/step - loss: 2.2558 - accuracy: 0.1137 - val_loss: 2.2699 - val_accuracy: 0.1070\n",
      "\n",
      "Epoch 00021: val_loss did not improve from 2.26970\n",
      "Epoch 22/100\n",
      "219/219 [==============================] - 0s 2ms/step - loss: 2.2562 - accuracy: 0.1131 - val_loss: 2.2700 - val_accuracy: 0.1048\n",
      "\n",
      "Epoch 00022: val_loss did not improve from 2.26970\n",
      "Epoch 23/100\n",
      "219/219 [==============================] - 0s 2ms/step - loss: 2.2558 - accuracy: 0.1112 - val_loss: 2.2699 - val_accuracy: 0.1048\n",
      "\n",
      "Epoch 00023: val_loss did not improve from 2.26970\n",
      "Epoch 24/100\n",
      "219/219 [==============================] - 0s 2ms/step - loss: 2.2561 - accuracy: 0.1131 - val_loss: 2.2699 - val_accuracy: 0.1048\n",
      "\n",
      "Epoch 00024: val_loss did not improve from 2.26970\n",
      "Epoch 25/100\n",
      "219/219 [==============================] - 0s 2ms/step - loss: 2.2558 - accuracy: 0.1171 - val_loss: 2.2697 - val_accuracy: 0.1048\n",
      "\n",
      "Epoch 00025: val_loss did not improve from 2.26970\n",
      "Epoch 26/100\n",
      "219/219 [==============================] - 0s 1ms/step - loss: 2.2558 - accuracy: 0.1105 - val_loss: 2.2698 - val_accuracy: 0.1048\n",
      "\n",
      "Epoch 00026: val_loss did not improve from 2.26970\n",
      "Epoch 27/100\n",
      "219/219 [==============================] - 0s 1ms/step - loss: 2.2558 - accuracy: 0.1104 - val_loss: 2.2698 - val_accuracy: 0.1070\n",
      "\n",
      "Epoch 00027: val_loss did not improve from 2.26970\n",
      "Epoch 28/100\n",
      "219/219 [==============================] - 0s 2ms/step - loss: 2.2559 - accuracy: 0.1165 - val_loss: 2.2697 - val_accuracy: 0.1048\n",
      "\n",
      "Epoch 00028: val_loss did not improve from 2.26970\n",
      "Epoch 29/100\n",
      "219/219 [==============================] - 0s 1ms/step - loss: 2.2558 - accuracy: 0.1137 - val_loss: 2.2699 - val_accuracy: 0.1048\n",
      "\n",
      "Epoch 00029: val_loss did not improve from 2.26970\n",
      "Epoch 30/100\n",
      "219/219 [==============================] - 0s 1ms/step - loss: 2.2558 - accuracy: 0.1137 - val_loss: 2.2698 - val_accuracy: 0.1042\n",
      "\n",
      "Epoch 00030: val_loss did not improve from 2.26970\n",
      "Epoch 31/100\n",
      "219/219 [==============================] - 0s 1ms/step - loss: 2.2558 - accuracy: 0.1141 - val_loss: 2.2698 - val_accuracy: 0.1042\n",
      "\n",
      "Epoch 00031: val_loss did not improve from 2.26970\n",
      "Epoch 32/100\n",
      "219/219 [==============================] - 0s 1ms/step - loss: 2.2558 - accuracy: 0.1115 - val_loss: 2.2698 - val_accuracy: 0.1042\n",
      "\n",
      "Epoch 00032: val_loss did not improve from 2.26970\n",
      "Epoch 33/100\n",
      "219/219 [==============================] - 0s 1ms/step - loss: 2.2562 - accuracy: 0.1127 - val_loss: 2.2699 - val_accuracy: 0.1042\n",
      "\n",
      "Epoch 00033: val_loss did not improve from 2.26970\n",
      "Epoch 34/100\n",
      "219/219 [==============================] - 0s 1ms/step - loss: 2.2559 - accuracy: 0.1135 - val_loss: 2.2698 - val_accuracy: 0.1042\n",
      "\n",
      "Epoch 00034: val_loss did not improve from 2.26970\n",
      "Epoch 35/100\n",
      "219/219 [==============================] - 0s 1ms/step - loss: 2.2558 - accuracy: 0.1150 - val_loss: 2.2699 - val_accuracy: 0.1042\n",
      "\n",
      "Epoch 00035: val_loss did not improve from 2.26970\n",
      "Epoch 36/100\n",
      "219/219 [==============================] - 0s 1ms/step - loss: 2.2558 - accuracy: 0.1127 - val_loss: 2.2699 - val_accuracy: 0.1048\n",
      "\n",
      "Epoch 00036: val_loss did not improve from 2.26970\n",
      "Epoch 37/100\n",
      "219/219 [==============================] - 0s 1ms/step - loss: 2.2558 - accuracy: 0.1144 - val_loss: 2.2699 - val_accuracy: 0.1048\n",
      "\n",
      "Epoch 00037: val_loss did not improve from 2.26970\n",
      "Epoch 38/100\n",
      "219/219 [==============================] - 0s 1ms/step - loss: 2.2558 - accuracy: 0.1151 - val_loss: 2.2698 - val_accuracy: 0.1048\n",
      "\n",
      "Epoch 00038: val_loss did not improve from 2.26970\n",
      "Epoch 39/100\n",
      "219/219 [==============================] - 0s 1ms/step - loss: 2.2558 - accuracy: 0.1130 - val_loss: 2.2699 - val_accuracy: 0.1048\n",
      "\n",
      "Epoch 00039: val_loss did not improve from 2.26970\n",
      "Epoch 40/100\n",
      "219/219 [==============================] - 0s 2ms/step - loss: 2.2558 - accuracy: 0.1120 - val_loss: 2.2698 - val_accuracy: 0.1048\n",
      "\n",
      "Epoch 00040: val_loss did not improve from 2.26970\n",
      "Epoch 41/100\n",
      "219/219 [==============================] - 0s 1ms/step - loss: 2.2559 - accuracy: 0.1111 - val_loss: 2.2699 - val_accuracy: 0.1048\n",
      "\n",
      "Epoch 00041: val_loss did not improve from 2.26970\n",
      "Epoch 42/100\n",
      "219/219 [==============================] - 0s 1ms/step - loss: 2.2558 - accuracy: 0.1158 - val_loss: 2.2699 - val_accuracy: 0.1048\n",
      "\n",
      "Epoch 00042: val_loss did not improve from 2.26970\n",
      "Epoch 43/100\n",
      "219/219 [==============================] - 0s 1ms/step - loss: 2.2558 - accuracy: 0.1145 - val_loss: 2.2700 - val_accuracy: 0.1048\n",
      "\n",
      "Epoch 00043: val_loss did not improve from 2.26970\n",
      "Epoch 44/100\n",
      "219/219 [==============================] - 0s 1ms/step - loss: 2.2558 - accuracy: 0.1145 - val_loss: 2.2700 - val_accuracy: 0.1042\n",
      "\n",
      "Epoch 00044: val_loss did not improve from 2.26970\n",
      "Epoch 45/100\n",
      "219/219 [==============================] - 0s 1ms/step - loss: 2.2559 - accuracy: 0.1161 - val_loss: 2.2700 - val_accuracy: 0.1048\n",
      "\n",
      "Epoch 00045: val_loss did not improve from 2.26970\n",
      "Epoch 46/100\n",
      "219/219 [==============================] - 0s 1ms/step - loss: 2.2558 - accuracy: 0.1118 - val_loss: 2.2699 - val_accuracy: 0.1042\n",
      "\n",
      "Epoch 00046: val_loss did not improve from 2.26970\n",
      "Epoch 47/100\n",
      "219/219 [==============================] - 0s 1ms/step - loss: 2.2558 - accuracy: 0.1152 - val_loss: 2.2698 - val_accuracy: 0.1042\n",
      "\n",
      "Epoch 00047: val_loss did not improve from 2.26970\n",
      "Epoch 48/100\n",
      "219/219 [==============================] - 0s 1ms/step - loss: 2.2558 - accuracy: 0.1141 - val_loss: 2.2699 - val_accuracy: 0.1048\n",
      "\n",
      "Epoch 00048: val_loss did not improve from 2.26970\n",
      "Epoch 49/100\n",
      "219/219 [==============================] - 0s 1ms/step - loss: 2.2558 - accuracy: 0.1125 - val_loss: 2.2699 - val_accuracy: 0.1048\n",
      "\n",
      "Epoch 00049: val_loss did not improve from 2.26970\n",
      "Epoch 50/100\n",
      "219/219 [==============================] - 0s 2ms/step - loss: 2.2558 - accuracy: 0.1127 - val_loss: 2.2699 - val_accuracy: 0.1048\n",
      "\n",
      "Epoch 00050: val_loss did not improve from 2.26970\n",
      "Epoch 51/100\n",
      "219/219 [==============================] - 0s 2ms/step - loss: 2.2558 - accuracy: 0.1102 - val_loss: 2.2697 - val_accuracy: 0.1070\n",
      "\n",
      "Epoch 00051: val_loss did not improve from 2.26970\n",
      "Epoch 52/100\n",
      "219/219 [==============================] - 0s 2ms/step - loss: 2.2558 - accuracy: 0.1122 - val_loss: 2.2698 - val_accuracy: 0.1048\n",
      "\n",
      "Epoch 00052: val_loss did not improve from 2.26970\n",
      "Epoch 53/100\n",
      "219/219 [==============================] - 0s 1ms/step - loss: 2.2558 - accuracy: 0.1097 - val_loss: 2.2699 - val_accuracy: 0.1042\n",
      "\n",
      "Epoch 00053: val_loss did not improve from 2.26970\n",
      "Epoch 54/100\n",
      "219/219 [==============================] - 0s 1ms/step - loss: 2.2558 - accuracy: 0.1148 - val_loss: 2.2698 - val_accuracy: 0.1042\n",
      "\n",
      "Epoch 00054: val_loss did not improve from 2.26970\n",
      "Epoch 55/100\n",
      "219/219 [==============================] - 0s 1ms/step - loss: 2.2557 - accuracy: 0.1160 - val_loss: 2.2699 - val_accuracy: 0.1048\n",
      "\n",
      "Epoch 00055: val_loss did not improve from 2.26970\n",
      "Epoch 56/100\n",
      "219/219 [==============================] - 0s 1ms/step - loss: 2.2558 - accuracy: 0.1127 - val_loss: 2.2699 - val_accuracy: 0.1048\n",
      "\n",
      "Epoch 00056: val_loss did not improve from 2.26970\n",
      "Epoch 57/100\n",
      "219/219 [==============================] - 0s 1ms/step - loss: 2.2558 - accuracy: 0.1158 - val_loss: 2.2700 - val_accuracy: 0.1048\n",
      "\n",
      "Epoch 00057: val_loss did not improve from 2.26970\n",
      "Epoch 58/100\n",
      "219/219 [==============================] - 0s 1ms/step - loss: 2.2573 - accuracy: 0.1171 - val_loss: 2.2700 - val_accuracy: 0.1048\n",
      "\n",
      "Epoch 00058: val_loss did not improve from 2.26970\n",
      "Epoch 59/100\n",
      "219/219 [==============================] - 0s 1ms/step - loss: 2.2558 - accuracy: 0.1132 - val_loss: 2.2699 - val_accuracy: 0.1048\n",
      "\n",
      "Epoch 00059: val_loss did not improve from 2.26970\n",
      "Epoch 60/100\n",
      "219/219 [==============================] - 0s 1ms/step - loss: 2.2561 - accuracy: 0.1125 - val_loss: 2.2699 - val_accuracy: 0.1048\n",
      "\n",
      "Epoch 00060: val_loss did not improve from 2.26970\n",
      "Epoch 61/100\n",
      "219/219 [==============================] - 0s 1ms/step - loss: 2.2558 - accuracy: 0.1121 - val_loss: 2.2699 - val_accuracy: 0.1048\n",
      "\n",
      "Epoch 00061: val_loss did not improve from 2.26970\n",
      "Epoch 62/100\n",
      "219/219 [==============================] - 0s 1ms/step - loss: 2.2561 - accuracy: 0.1170 - val_loss: 2.2698 - val_accuracy: 0.1048\n",
      "\n",
      "Epoch 00062: val_loss did not improve from 2.26970\n",
      "Epoch 63/100\n",
      "219/219 [==============================] - 0s 2ms/step - loss: 2.2558 - accuracy: 0.1147 - val_loss: 2.2698 - val_accuracy: 0.1048\n",
      "\n",
      "Epoch 00063: val_loss did not improve from 2.26970\n",
      "Epoch 64/100\n",
      "219/219 [==============================] - 0s 1ms/step - loss: 2.2558 - accuracy: 0.1171 - val_loss: 2.2699 - val_accuracy: 0.1048\n",
      "\n",
      "Epoch 00064: val_loss did not improve from 2.26970\n",
      "Epoch 65/100\n",
      "219/219 [==============================] - 0s 2ms/step - loss: 2.2559 - accuracy: 0.1097 - val_loss: 2.2698 - val_accuracy: 0.1042\n",
      "\n",
      "Epoch 00065: val_loss did not improve from 2.26970\n",
      "Epoch 66/100\n",
      "219/219 [==============================] - 0s 1ms/step - loss: 2.2558 - accuracy: 0.1135 - val_loss: 2.2699 - val_accuracy: 0.1042\n",
      "\n",
      "Epoch 00066: val_loss did not improve from 2.26970\n",
      "Epoch 67/100\n",
      "219/219 [==============================] - 0s 1ms/step - loss: 2.2559 - accuracy: 0.1161 - val_loss: 2.2699 - val_accuracy: 0.1048\n",
      "\n",
      "Epoch 00067: val_loss did not improve from 2.26970\n",
      "Epoch 68/100\n",
      "219/219 [==============================] - 0s 2ms/step - loss: 2.2559 - accuracy: 0.1120 - val_loss: 2.2699 - val_accuracy: 0.1042\n",
      "\n",
      "Epoch 00068: val_loss did not improve from 2.26970\n",
      "Epoch 69/100\n",
      "219/219 [==============================] - 0s 1ms/step - loss: 2.2558 - accuracy: 0.1121 - val_loss: 2.2699 - val_accuracy: 0.1048\n",
      "\n",
      "Epoch 00069: val_loss did not improve from 2.26970\n",
      "Epoch 70/100\n",
      "219/219 [==============================] - 0s 1ms/step - loss: 2.2558 - accuracy: 0.1135 - val_loss: 2.2699 - val_accuracy: 0.1042\n",
      "\n",
      "Epoch 00070: val_loss did not improve from 2.26970\n",
      "Epoch 71/100\n",
      "219/219 [==============================] - 0s 1ms/step - loss: 2.2558 - accuracy: 0.1114 - val_loss: 2.2699 - val_accuracy: 0.1048\n",
      "\n",
      "Epoch 00071: val_loss did not improve from 2.26970\n",
      "Epoch 72/100\n",
      "219/219 [==============================] - 0s 1ms/step - loss: 2.2558 - accuracy: 0.1115 - val_loss: 2.2700 - val_accuracy: 0.1042\n",
      "\n",
      "Epoch 00072: val_loss did not improve from 2.26970\n",
      "Epoch 73/100\n",
      "219/219 [==============================] - 0s 1ms/step - loss: 2.2559 - accuracy: 0.1115 - val_loss: 2.2699 - val_accuracy: 0.1042\n",
      "\n",
      "Epoch 00073: val_loss did not improve from 2.26970\n",
      "Epoch 74/100\n",
      "219/219 [==============================] - 0s 1ms/step - loss: 2.2558 - accuracy: 0.1164 - val_loss: 2.2697 - val_accuracy: 0.1048\n",
      "\n",
      "Epoch 00074: val_loss did not improve from 2.26970\n",
      "Epoch 75/100\n",
      "219/219 [==============================] - 0s 1ms/step - loss: 2.2558 - accuracy: 0.1131 - val_loss: 2.2698 - val_accuracy: 0.1048\n",
      "\n",
      "Epoch 00075: val_loss did not improve from 2.26970\n",
      "Epoch 76/100\n",
      "219/219 [==============================] - 0s 1ms/step - loss: 2.2558 - accuracy: 0.1098 - val_loss: 2.2699 - val_accuracy: 0.1042\n",
      "\n",
      "Epoch 00076: val_loss did not improve from 2.26970\n",
      "Epoch 77/100\n",
      "219/219 [==============================] - 0s 1ms/step - loss: 2.2559 - accuracy: 0.1142 - val_loss: 2.2699 - val_accuracy: 0.1048\n",
      "\n",
      "Epoch 00077: val_loss did not improve from 2.26970\n",
      "Epoch 78/100\n",
      "219/219 [==============================] - 0s 1ms/step - loss: 2.2558 - accuracy: 0.1101 - val_loss: 2.2699 - val_accuracy: 0.1048\n",
      "\n",
      "Epoch 00078: val_loss did not improve from 2.26970\n",
      "Epoch 79/100\n",
      "219/219 [==============================] - 0s 1ms/step - loss: 2.2558 - accuracy: 0.1160 - val_loss: 2.2699 - val_accuracy: 0.1048\n",
      "\n",
      "Epoch 00079: val_loss did not improve from 2.26970\n",
      "Epoch 80/100\n",
      "219/219 [==============================] - 0s 1ms/step - loss: 2.2558 - accuracy: 0.1141 - val_loss: 2.2698 - val_accuracy: 0.1048\n",
      "\n",
      "Epoch 00080: val_loss did not improve from 2.26970\n",
      "Epoch 81/100\n",
      "219/219 [==============================] - 0s 1ms/step - loss: 2.2558 - accuracy: 0.1158 - val_loss: 2.2698 - val_accuracy: 0.1042\n",
      "\n",
      "Epoch 00081: val_loss did not improve from 2.26970\n",
      "Epoch 82/100\n",
      "219/219 [==============================] - 0s 1ms/step - loss: 2.2559 - accuracy: 0.1171 - val_loss: 2.2698 - val_accuracy: 0.1042\n",
      "\n",
      "Epoch 00082: val_loss did not improve from 2.26970\n",
      "Epoch 83/100\n",
      "219/219 [==============================] - 0s 1ms/step - loss: 2.2558 - accuracy: 0.1151 - val_loss: 2.2698 - val_accuracy: 0.1048\n",
      "\n",
      "Epoch 00083: val_loss did not improve from 2.26970\n",
      "Epoch 84/100\n",
      "219/219 [==============================] - 0s 1ms/step - loss: 2.2582 - accuracy: 0.1127 - val_loss: 2.2700 - val_accuracy: 0.1048\n",
      "\n",
      "Epoch 00084: val_loss did not improve from 2.26970\n",
      "Epoch 85/100\n",
      "219/219 [==============================] - 0s 1ms/step - loss: 2.2561 - accuracy: 0.1125 - val_loss: 2.2699 - val_accuracy: 0.1070\n",
      "\n",
      "Epoch 00085: val_loss did not improve from 2.26970\n",
      "Epoch 86/100\n",
      "219/219 [==============================] - 0s 1ms/step - loss: 2.2558 - accuracy: 0.1142 - val_loss: 2.2699 - val_accuracy: 0.1048\n",
      "\n",
      "Epoch 00086: val_loss did not improve from 2.26970\n",
      "Epoch 87/100\n",
      "219/219 [==============================] - 0s 1ms/step - loss: 2.2558 - accuracy: 0.1138 - val_loss: 2.2698 - val_accuracy: 0.1042\n",
      "\n",
      "Epoch 00087: val_loss did not improve from 2.26970\n",
      "Epoch 88/100\n",
      "219/219 [==============================] - 0s 1ms/step - loss: 2.2558 - accuracy: 0.1105 - val_loss: 2.2698 - val_accuracy: 0.1042\n",
      "\n",
      "Epoch 00088: val_loss did not improve from 2.26970\n",
      "Epoch 89/100\n",
      "219/219 [==============================] - 0s 2ms/step - loss: 2.2558 - accuracy: 0.1171 - val_loss: 2.2698 - val_accuracy: 0.1042\n",
      "\n",
      "Epoch 00089: val_loss did not improve from 2.26970\n",
      "Epoch 90/100\n",
      "219/219 [==============================] - 0s 2ms/step - loss: 2.2561 - accuracy: 0.1121 - val_loss: 2.2699 - val_accuracy: 0.1042\n",
      "\n",
      "Epoch 00090: val_loss did not improve from 2.26970\n",
      "Epoch 91/100\n",
      "219/219 [==============================] - 0s 2ms/step - loss: 2.2558 - accuracy: 0.1162 - val_loss: 2.2698 - val_accuracy: 0.1048\n",
      "\n",
      "Epoch 00091: val_loss did not improve from 2.26970\n",
      "Epoch 92/100\n",
      "219/219 [==============================] - 0s 1ms/step - loss: 2.2558 - accuracy: 0.1118 - val_loss: 2.2698 - val_accuracy: 0.1042\n",
      "\n",
      "Epoch 00092: val_loss did not improve from 2.26970\n",
      "Epoch 93/100\n",
      "219/219 [==============================] - 0s 2ms/step - loss: 2.2559 - accuracy: 0.1110 - val_loss: 2.2698 - val_accuracy: 0.1042\n",
      "\n",
      "Epoch 00093: val_loss did not improve from 2.26970\n",
      "Epoch 94/100\n",
      "219/219 [==============================] - 0s 2ms/step - loss: 2.2558 - accuracy: 0.1072 - val_loss: 2.2697 - val_accuracy: 0.1042\n",
      "\n",
      "Epoch 00094: val_loss improved from 2.26970 to 2.26969, saving model to saved_models\\audio_classification.hdf5\n",
      "Epoch 95/100\n",
      "219/219 [==============================] - 0s 1ms/step - loss: 2.2558 - accuracy: 0.1079 - val_loss: 2.2698 - val_accuracy: 0.1042\n",
      "\n",
      "Epoch 00095: val_loss did not improve from 2.26969\n",
      "Epoch 96/100\n",
      "219/219 [==============================] - 0s 1ms/step - loss: 2.2558 - accuracy: 0.1130 - val_loss: 2.2698 - val_accuracy: 0.1042\n",
      "\n",
      "Epoch 00096: val_loss did not improve from 2.26969\n",
      "Epoch 97/100\n",
      "219/219 [==============================] - 0s 1ms/step - loss: 2.2560 - accuracy: 0.1142 - val_loss: 2.2698 - val_accuracy: 0.1042\n",
      "\n",
      "Epoch 00097: val_loss did not improve from 2.26969\n",
      "Epoch 98/100\n",
      "219/219 [==============================] - 0s 2ms/step - loss: 2.2561 - accuracy: 0.1155 - val_loss: 2.2698 - val_accuracy: 0.1042\n",
      "\n",
      "Epoch 00098: val_loss did not improve from 2.26969\n",
      "Epoch 99/100\n",
      "219/219 [==============================] - 0s 2ms/step - loss: 2.2559 - accuracy: 0.1138 - val_loss: 2.2699 - val_accuracy: 0.1048\n",
      "\n",
      "Epoch 00099: val_loss did not improve from 2.26969\n",
      "Epoch 100/100\n",
      "219/219 [==============================] - 0s 2ms/step - loss: 2.2558 - accuracy: 0.1145 - val_loss: 2.2699 - val_accuracy: 0.1042\n",
      "\n",
      "Epoch 00100: val_loss did not improve from 2.26969\n",
      "Training completed in time:  0:00:32.243015\n"
     ]
    }
   ],
   "source": [
    "## Training my model\n",
    "from tensorflow.keras.callbacks import ModelCheckpoint\n",
    "from datetime import datetime \n",
    "\n",
    "num_epochs = 100\n",
    "num_batch_size = 32\n",
    "\n",
    "checkpointer = ModelCheckpoint(filepath='saved_models/audio_classification.hdf5', verbose=1, save_best_only=True)\n",
    "start = datetime.now()\n",
    "\n",
    "model.fit(X_train, y_train, batch_size=num_batch_size, epochs=num_epochs, validation_data=(X_test, y_test), callbacks=[checkpointer], verbose=1)\n",
    "\n",
    "\n",
    "duration = datetime.now() - start\n",
    "print(\"Training completed in time: \", duration)"
   ]
  },
  {
   "cell_type": "code",
   "execution_count": null,
   "metadata": {},
   "outputs": [
    {
     "name": "stdout",
     "output_type": "stream",
     "text": [
      "0.10417859256267548\n"
     ]
    }
   ],
   "source": [
    "test_accuracy=model.evaluate(X_test,y_test,verbose=0)\n",
    "print(test_accuracy[1])"
   ]
  },
  {
   "attachments": {},
   "cell_type": "markdown",
   "metadata": {},
   "source": [
    "Time for model2 training"
   ]
  },
  {
   "cell_type": "code",
   "execution_count": null,
   "metadata": {},
   "outputs": [
    {
     "ename": "NameError",
     "evalue": "name 'X_train' is not defined",
     "output_type": "error",
     "traceback": [
      "\u001b[1;31m---------------------------------------------------------------------------\u001b[0m",
      "\u001b[1;31mNameError\u001b[0m                                 Traceback (most recent call last)",
      "\u001b[1;32md:\\Work\\Jupyter projects\\Audio-classification-using-deep-learning\\Audio Classification Data Preprocessing And Model Creation.ipynb Cell 46\u001b[0m in \u001b[0;36m<cell line: 11>\u001b[1;34m()\u001b[0m\n\u001b[0;32m      <a href='vscode-notebook-cell:/d%3A/Work/Jupyter%20projects/Audio-classification-using-deep-learning/Audio%20Classification%20Data%20Preprocessing%20And%20Model%20Creation.ipynb#X56sZmlsZQ%3D%3D?line=7'>8</a>\u001b[0m checkpointer \u001b[39m=\u001b[39m ModelCheckpoint(filepath\u001b[39m=\u001b[39m\u001b[39m'\u001b[39m\u001b[39msaved_models/audio_classification.hdf5\u001b[39m\u001b[39m'\u001b[39m, verbose\u001b[39m=\u001b[39m\u001b[39m1\u001b[39m, save_best_only\u001b[39m=\u001b[39m\u001b[39mTrue\u001b[39;00m)\n\u001b[0;32m      <a href='vscode-notebook-cell:/d%3A/Work/Jupyter%20projects/Audio-classification-using-deep-learning/Audio%20Classification%20Data%20Preprocessing%20And%20Model%20Creation.ipynb#X56sZmlsZQ%3D%3D?line=8'>9</a>\u001b[0m start \u001b[39m=\u001b[39m datetime\u001b[39m.\u001b[39mnow()\n\u001b[1;32m---> <a href='vscode-notebook-cell:/d%3A/Work/Jupyter%20projects/Audio-classification-using-deep-learning/Audio%20Classification%20Data%20Preprocessing%20And%20Model%20Creation.ipynb#X56sZmlsZQ%3D%3D?line=10'>11</a>\u001b[0m model2\u001b[39m.\u001b[39mfit(X_train, y_train, batch_size\u001b[39m=\u001b[39mnum_batch_size, epochs\u001b[39m=\u001b[39mnum_epochs, validation_data\u001b[39m=\u001b[39m(X_test, y_test), callbacks\u001b[39m=\u001b[39m[checkpointer], verbose\u001b[39m=\u001b[39m\u001b[39m1\u001b[39m)\n\u001b[0;32m     <a href='vscode-notebook-cell:/d%3A/Work/Jupyter%20projects/Audio-classification-using-deep-learning/Audio%20Classification%20Data%20Preprocessing%20And%20Model%20Creation.ipynb#X56sZmlsZQ%3D%3D?line=13'>14</a>\u001b[0m duration \u001b[39m=\u001b[39m datetime\u001b[39m.\u001b[39mnow() \u001b[39m-\u001b[39m start\n\u001b[0;32m     <a href='vscode-notebook-cell:/d%3A/Work/Jupyter%20projects/Audio-classification-using-deep-learning/Audio%20Classification%20Data%20Preprocessing%20And%20Model%20Creation.ipynb#X56sZmlsZQ%3D%3D?line=14'>15</a>\u001b[0m \u001b[39mprint\u001b[39m(\u001b[39m\"\u001b[39m\u001b[39mTraining completed in time: \u001b[39m\u001b[39m\"\u001b[39m, duration)\n",
      "\u001b[1;31mNameError\u001b[0m: name 'X_train' is not defined"
     ]
    }
   ],
   "source": [
    "## Training my model2\n",
    "from tensorflow.keras.callbacks import ModelCheckpoint\n",
    "from datetime import datetime \n",
    "\n",
    "num_epochs = 100\n",
    "num_batch_size = 64\n",
    "\n",
    "checkpointer = ModelCheckpoint(filepath='saved_models/audio_classification.hdf5', verbose=1, save_best_only=True)\n",
    "start = datetime.now()\n",
    "\n",
    "model2.fit(X_train, y_train, batch_size=num_batch_size, epochs=num_epochs, validation_data=(X_test, y_test), callbacks=[checkpointer], verbose=1)\n",
    "\n",
    "\n",
    "duration = datetime.now() - start\n",
    "print(\"Training completed in time: \", duration)"
   ]
  },
  {
   "cell_type": "code",
   "execution_count": null,
   "metadata": {},
   "outputs": [],
   "source": [
    "test_accuracy=model2.evaluate(X_test,y_test,verbose=0)\n",
    "print(test_accuracy[1])"
   ]
  }
 ],
 "metadata": {
  "kernelspec": {
   "display_name": "tensorflow_env",
   "language": "python",
   "name": "python3"
  },
  "language_info": {
   "codemirror_mode": {
    "name": "ipython",
    "version": 3
   },
   "file_extension": ".py",
   "mimetype": "text/x-python",
   "name": "python",
   "nbconvert_exporter": "python",
   "pygments_lexer": "ipython3",
   "version": "3.9.6"
  },
  "orig_nbformat": 4,
  "vscode": {
   "interpreter": {
    "hash": "ae9c6dbfe98c233b552ade8845b36d543790a6937789b97776baad4875d76556"
   }
  }
 },
 "nbformat": 4,
 "nbformat_minor": 2
}
